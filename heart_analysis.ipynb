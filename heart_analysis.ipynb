{
 "cells": [
  {
   "cell_type": "code",
   "execution_count": 1,
   "id": "cleared-southwest",
   "metadata": {},
   "outputs": [],
   "source": [
    "import csv\n",
    "import matplotlib.pyplot as plt"
   ]
  },
  {
   "cell_type": "code",
   "execution_count": 2,
   "id": "intended-hobby",
   "metadata": {},
   "outputs": [],
   "source": [
    "class Series(list):\n",
    "    def __init__(self, values=[]):\n",
    "        super().__init__()\n",
    "        self.extend(values)\n",
    "    \n",
    "    def __ge__(self, other):\n",
    "        res = Series()\n",
    "        for e in self:\n",
    "            res.append(e >= other)\n",
    "        return res"
   ]
  },
  {
   "cell_type": "code",
   "execution_count": 58,
   "id": "helpful-compression",
   "metadata": {},
   "outputs": [],
   "source": [
    "class DataFrame:\n",
    "    @staticmethod\n",
    "    def read_csv(filename):\n",
    "        df = DataFrame()\n",
    "        with open(filename) as csvfile:\n",
    "            heart = csv.reader(csvfile, delimiter=',')\n",
    "\n",
    "            df.columns = next(heart)\n",
    "            ncols = len(df.columns)\n",
    "\n",
    "            df.data = [Series() for _ in range(ncols)]\n",
    "            for row in heart:\n",
    "                #print(row)\n",
    "                for i in range(ncols):\n",
    "                    val = int(row[i])\n",
    "                    df.data[i].append(val)\n",
    "        return df\n",
    "\n",
    "    def __init__(self, data=None, columns=None):\n",
    "        self.columns = []\n",
    "        self.data = []\n",
    "        if columns is not None:\n",
    "            self.columns = columns\n",
    "            self.data = [Series() for _ in columns]\n",
    "        if data is not None:\n",
    "            self.data = data\n",
    "    \n",
    "    def __getitem__(self, key):\n",
    "        if type(key) is str:\n",
    "            # якщо key це str, то повернути колонку\n",
    "            try:\n",
    "                i = self.columns.index(key)\n",
    "                return self.data[i]\n",
    "            except ValueError:\n",
    "                raise KeyError(f'No column {key}')\n",
    "        elif hasattr(key, '__iter__'):\n",
    "            # якщо key це iterable and not str, то фільтрувати\n",
    "            res = DataFrame(columns=self.columns)\n",
    "            for i in range(len(key)):\n",
    "                if key[i] == True:\n",
    "                    for j in range(len(res.columns)):\n",
    "                        res.data[j].append(self.data[j][i])\n",
    "            return res\n",
    "        else:\n",
    "            raise KeyError(f'Cannot index by {key}')\n",
    "        \n",
    "    \n",
    "    def __setitem__(self, col, data):\n",
    "        try:\n",
    "            i = self.columns.index(col)\n",
    "            self.data[i] = data\n",
    "        except ValueError:   \n",
    "            # створити нову\n",
    "            self.columns.append(col)\n",
    "            self.data.append(data)\n",
    "            \n",
    "    def __getattr__(self, item):\n",
    "        if item in self.columns:\n",
    "            return self[item]\n",
    "            \n",
    "    def __len__(self):\n",
    "        if not self.columns:\n",
    "            return 0\n",
    "        return len(self.data[0])\n",
    "    \n",
    "    @property\n",
    "    def shape(self):\n",
    "        return (len(df.columns), len(self))\n",
    "    \n",
    "    def apply(self, func, axis=0):\n",
    "        res = Series()\n",
    "        if axis == 0:\n",
    "            for i, col in enumerate(self.columns):\n",
    "                r = func(self.data[i])\n",
    "                res.append(r)\n",
    "        elif axis == 1:\n",
    "            for i in range(len(self)):\n",
    "                args = Series()\n",
    "                for j in range(len(self.columns)):\n",
    "                    args.append(self.data[j][i])\n",
    "                r = func(args)\n",
    "                res.append(r)\n",
    "        return res"
   ]
  },
  {
   "cell_type": "code",
   "execution_count": 38,
   "id": "editorial-timeline",
   "metadata": {},
   "outputs": [
    {
     "name": "stdout",
     "output_type": "stream",
     "text": [
      "['age', 'sex', 'cp', 'trtbps', 'chol', 'fbs', 'restecg', 'thalachh']\n",
      "303\n"
     ]
    }
   ],
   "source": [
    "df = DataFrame.read_csv(\"./heart.csv\")\n",
    "\n",
    "print(df.columns)\n",
    "print(len(df))"
   ]
  },
  {
   "cell_type": "code",
   "execution_count": 89,
   "id": "democratic-truth",
   "metadata": {},
   "outputs": [
    {
     "name": "stdout",
     "output_type": "stream",
     "text": [
      "[145, 130, 130, 120, 120, 140, 140, 120, 172, 150]\n"
     ]
    }
   ],
   "source": [
    "print(df.trtbps[:10])"
   ]
  },
  {
   "cell_type": "code",
   "execution_count": 40,
   "id": "pediatric-lemon",
   "metadata": {},
   "outputs": [
    {
     "name": "stdout",
     "output_type": "stream",
     "text": [
      "303\n",
      "97\n"
     ]
    }
   ],
   "source": [
    "print(len(df))\n",
    "print(sum(df.trtbps >= 140))"
   ]
  },
  {
   "cell_type": "code",
   "execution_count": 61,
   "id": "cloudy-confidentiality",
   "metadata": {},
   "outputs": [
    {
     "data": {
      "text/plain": [
       "97"
      ]
     },
     "execution_count": 61,
     "metadata": {},
     "output_type": "execute_result"
    }
   ],
   "source": [
    "df1 = df[df.trtbps >= 140]   \n",
    "\n",
    "len(df1)"
   ]
  },
  {
   "cell_type": "code",
   "execution_count": 63,
   "id": "subjective-lyric",
   "metadata": {},
   "outputs": [],
   "source": [
    "def label_by_range(ranges, df, col):\n",
    "    def inner(row):\n",
    "        iage = df.columns.index(col)\n",
    "        age = row[iage]\n",
    "        for minage, maxage, label in ranges:\n",
    "            if age in range(minage, maxage):\n",
    "                return label\n",
    "        raise ValueError(f'Cannot label age={age}')\n",
    "    return inner\n",
    "\n",
    "ranges = [\n",
    "    (25, 35, '25-34'),\n",
    "    (35, 45, '35-44'),\n",
    "    (45, 55, '45-54'),\n",
    "    (55, 65, '55-64'),\n",
    "    (65, 75, '65-74'),\n",
    "    (75, 85, '75-84')\n",
    "]\n",
    "df1['age_group'] = df1.apply(label_by_range(ranges, df1, 'age'), axis=1)"
   ]
  },
  {
   "cell_type": "code",
   "execution_count": 69,
   "id": "played-pipeline",
   "metadata": {},
   "outputs": [
    {
     "data": {
      "text/plain": [
       "{'55-64': 144.71428571428572,\n",
       " '45-54': 152.78947368421052,\n",
       " '65-74': 140.47619047619048,\n",
       " '35-44': 178.28571428571428,\n",
       " '75-84': 116.0}"
      ]
     },
     "execution_count": 69,
     "metadata": {},
     "output_type": "execute_result"
    }
   ],
   "source": [
    "h_rate_by_group = {}\n",
    "\n",
    "for i in range(len(df1)):\n",
    "    age_group = df1['age_group'][i]\n",
    "    hrate = df1['thalachh'][i]\n",
    "    if age_group not in h_rate_by_group:\n",
    "        h_rate_by_group[age_group] = [0.0, 0.0]\n",
    "    h_rate_by_group[age_group][0] += hrate\n",
    "    h_rate_by_group[age_group][1] += 1\n",
    "    \n",
    "for age_group in h_rate_by_group:\n",
    "    hrsum, hrlen = h_rate_by_group[age_group]\n",
    "    h_rate_by_group[age_group] = hrsum/hrlen\n",
    "\n",
    "h_rate_by_group"
   ]
  },
  {
   "cell_type": "code",
   "execution_count": 88,
   "id": "brazilian-chinese",
   "metadata": {},
   "outputs": [
    {
     "data": {
      "text/plain": [
       "<BarContainer object of 5 artists>"
      ]
     },
     "execution_count": 88,
     "metadata": {},
     "output_type": "execute_result"
    },
    {
     "data": {
      "image/png": "[encoded data removed]",
      "text/plain": [
       "<Figure size 432x288 with 1 Axes>"
      ]
     },
     "metadata": {
      "needs_background": "light"
     },
     "output_type": "display_data"
    }
   ],
   "source": [
    "x, y = zip(*sorted(list(h_rate_by_group.items())))\n",
    "\n",
    "\n",
    "plt.bar(x, y)"
   ]
  },
  {
   "cell_type": "markdown",
   "id": "willing-investment",
   "metadata": {},
   "source": [
    "## Cross-checking with Pandas"
   ]
  },
  {
   "cell_type": "code",
   "execution_count": 74,
   "id": "infrared-foster",
   "metadata": {},
   "outputs": [],
   "source": [
    "import numpy as np\n",
    "import pandas as pd"
   ]
  },
  {
   "cell_type": "code",
   "execution_count": 75,
   "id": "regular-heather",
   "metadata": {},
   "outputs": [],
   "source": [
    "df_pd = pd.read_csv(\"./heart.csv\")"
   ]
  },
  {
   "cell_type": "code",
   "execution_count": 76,
   "id": "renewable-disease",
   "metadata": {},
   "outputs": [
    {
     "name": "stdout",
     "output_type": "stream",
     "text": [
      "<class 'pandas.core.frame.DataFrame'>\n",
      "RangeIndex: 303 entries, 0 to 302\n",
      "Data columns (total 8 columns):\n",
      " #   Column    Non-Null Count  Dtype\n",
      "---  ------    --------------  -----\n",
      " 0   age       303 non-null    int64\n",
      " 1   sex       303 non-null    int64\n",
      " 2   cp        303 non-null    int64\n",
      " 3   trtbps    303 non-null    int64\n",
      " 4   chol      303 non-null    int64\n",
      " 5   fbs       303 non-null    int64\n",
      " 6   restecg   303 non-null    int64\n",
      " 7   thalachh  303 non-null    int64\n",
      "dtypes: int64(8)\n",
      "memory usage: 19.1 KB\n"
     ]
    }
   ],
   "source": [
    "df_pd.info()"
   ]
  },
  {
   "cell_type": "code",
   "execution_count": 77,
   "id": "helpful-disorder",
   "metadata": {},
   "outputs": [],
   "source": [
    "df1 = df_pd[df_pd['trtbps'] >= 140]"
   ]
  },
  {
   "cell_type": "code",
   "execution_count": 78,
   "id": "assumed-brazilian",
   "metadata": {},
   "outputs": [
    {
     "data": {
      "text/html": [
       "<div>\n",
       "<style scoped>\n",
       "    .dataframe tbody tr th:only-of-type {\n",
       "        vertical-align: middle;\n",
       "    }\n",
       "\n",
       "    .dataframe tbody tr th {\n",
       "        vertical-align: top;\n",
       "    }\n",
       "\n",
       "    .dataframe thead th {\n",
       "        text-align: right;\n",
       "    }\n",
       "</style>\n",
       "<table border=\"1\" class=\"dataframe\">\n",
       "  <thead>\n",
       "    <tr style=\"text-align: right;\">\n",
       "      <th></th>\n",
       "      <th>age</th>\n",
       "      <th>sex</th>\n",
       "      <th>cp</th>\n",
       "      <th>trtbps</th>\n",
       "      <th>chol</th>\n",
       "      <th>fbs</th>\n",
       "      <th>restecg</th>\n",
       "      <th>thalachh</th>\n",
       "    </tr>\n",
       "  </thead>\n",
       "  <tbody>\n",
       "    <tr>\n",
       "      <th>0</th>\n",
       "      <td>63</td>\n",
       "      <td>1</td>\n",
       "      <td>3</td>\n",
       "      <td>145</td>\n",
       "      <td>233</td>\n",
       "      <td>1</td>\n",
       "      <td>0</td>\n",
       "      <td>150</td>\n",
       "    </tr>\n",
       "    <tr>\n",
       "      <th>5</th>\n",
       "      <td>57</td>\n",
       "      <td>1</td>\n",
       "      <td>0</td>\n",
       "      <td>140</td>\n",
       "      <td>192</td>\n",
       "      <td>0</td>\n",
       "      <td>1</td>\n",
       "      <td>148</td>\n",
       "    </tr>\n",
       "    <tr>\n",
       "      <th>6</th>\n",
       "      <td>56</td>\n",
       "      <td>0</td>\n",
       "      <td>1</td>\n",
       "      <td>140</td>\n",
       "      <td>294</td>\n",
       "      <td>0</td>\n",
       "      <td>0</td>\n",
       "      <td>153</td>\n",
       "    </tr>\n",
       "    <tr>\n",
       "      <th>8</th>\n",
       "      <td>52</td>\n",
       "      <td>1</td>\n",
       "      <td>2</td>\n",
       "      <td>172</td>\n",
       "      <td>199</td>\n",
       "      <td>1</td>\n",
       "      <td>1</td>\n",
       "      <td>162</td>\n",
       "    </tr>\n",
       "    <tr>\n",
       "      <th>9</th>\n",
       "      <td>57</td>\n",
       "      <td>1</td>\n",
       "      <td>2</td>\n",
       "      <td>150</td>\n",
       "      <td>168</td>\n",
       "      <td>0</td>\n",
       "      <td>1</td>\n",
       "      <td>174</td>\n",
       "    </tr>\n",
       "  </tbody>\n",
       "</table>\n",
       "</div>"
      ],
      "text/plain": [
       "   age  sex  cp  trtbps  chol  fbs  restecg  thalachh\n",
       "0   63    1   3     145   233    1        0       150\n",
       "5   57    1   0     140   192    0        1       148\n",
       "6   56    0   1     140   294    0        0       153\n",
       "8   52    1   2     172   199    1        1       162\n",
       "9   57    1   2     150   168    0        1       174"
      ]
     },
     "execution_count": 78,
     "metadata": {},
     "output_type": "execute_result"
    }
   ],
   "source": [
    "df1.head()"
   ]
  },
  {
   "cell_type": "code",
   "execution_count": 79,
   "id": "focused-marshall",
   "metadata": {},
   "outputs": [
    {
     "name": "stderr",
     "output_type": "stream",
     "text": [
      "/home/qgelena/.local/lib/python3.6/site-packages/ipykernel_launcher.py:4: SettingWithCopyWarning: \n",
      "A value is trying to be set on a copy of a slice from a DataFrame.\n",
      "Try using .loc[row_indexer,col_indexer] = value instead\n",
      "\n",
      "See the caveats in the documentation: https://pandas.pydata.org/pandas-docs/stable/user_guide/indexing.html#returning-a-view-versus-a-copy\n",
      "  after removing the cwd from sys.path.\n"
     ]
    }
   ],
   "source": [
    "bins = [25, 35, 45, 55, 65, 75, 84]\n",
    "labels = ['25-34', '35-44', '45-54', '55-64', '65-74', '75-84']\n",
    "\n",
    "df1['age_group'] = pd.cut(df1['age'], bins=bins, labels=labels, right=False)"
   ]
  },
  {
   "cell_type": "code",
   "execution_count": 84,
   "id": "spanish-spirituality",
   "metadata": {},
   "outputs": [
    {
     "data": {
      "text/html": [
       "<div>\n",
       "<style scoped>\n",
       "    .dataframe tbody tr th:only-of-type {\n",
       "        vertical-align: middle;\n",
       "    }\n",
       "\n",
       "    .dataframe tbody tr th {\n",
       "        vertical-align: top;\n",
       "    }\n",
       "\n",
       "    .dataframe thead th {\n",
       "        text-align: right;\n",
       "    }\n",
       "</style>\n",
       "<table border=\"1\" class=\"dataframe\">\n",
       "  <thead>\n",
       "    <tr style=\"text-align: right;\">\n",
       "      <th></th>\n",
       "      <th>age</th>\n",
       "      <th>sex</th>\n",
       "      <th>cp</th>\n",
       "      <th>trtbps</th>\n",
       "      <th>chol</th>\n",
       "      <th>fbs</th>\n",
       "      <th>restecg</th>\n",
       "      <th>thalachh</th>\n",
       "    </tr>\n",
       "  </thead>\n",
       "  <tbody>\n",
       "    <tr>\n",
       "      <th>58</th>\n",
       "      <td>34</td>\n",
       "      <td>1</td>\n",
       "      <td>3</td>\n",
       "      <td>118</td>\n",
       "      <td>182</td>\n",
       "      <td>0</td>\n",
       "      <td>0</td>\n",
       "      <td>174</td>\n",
       "    </tr>\n",
       "    <tr>\n",
       "      <th>72</th>\n",
       "      <td>29</td>\n",
       "      <td>1</td>\n",
       "      <td>1</td>\n",
       "      <td>130</td>\n",
       "      <td>204</td>\n",
       "      <td>0</td>\n",
       "      <td>0</td>\n",
       "      <td>202</td>\n",
       "    </tr>\n",
       "    <tr>\n",
       "      <th>125</th>\n",
       "      <td>34</td>\n",
       "      <td>0</td>\n",
       "      <td>1</td>\n",
       "      <td>118</td>\n",
       "      <td>210</td>\n",
       "      <td>0</td>\n",
       "      <td>1</td>\n",
       "      <td>192</td>\n",
       "    </tr>\n",
       "  </tbody>\n",
       "</table>\n",
       "</div>"
      ],
      "text/plain": [
       "     age  sex  cp  trtbps  chol  fbs  restecg  thalachh\n",
       "58    34    1   3     118   182    0        0       174\n",
       "72    29    1   1     130   204    0        0       202\n",
       "125   34    0   1     118   210    0        1       192"
      ]
     },
     "execution_count": 84,
     "metadata": {},
     "output_type": "execute_result"
    }
   ],
   "source": [
    "df_pd[df_pd.age.isin(range(25, 35))]"
   ]
  },
  {
   "cell_type": "code",
   "execution_count": 21,
   "id": "forced-station",
   "metadata": {},
   "outputs": [
    {
     "data": {
      "text/plain": [
       "<BarContainer object of 6 artists>"
      ]
     },
     "execution_count": 21,
     "metadata": {},
     "output_type": "execute_result"
    },
    {
     "data": {
      "image/png": "[encoded data removed]",
      "text/plain": [
       "<Figure size 432x288 with 1 Axes>"
      ]
     },
     "metadata": {
      "needs_background": "light"
     },
     "output_type": "display_data"
    }
   ],
   "source": [
    "g1 = df1.groupby([\"age_group\"]).size().reset_index(name='count')\n",
    "\n",
    "y= g1['count']\n",
    "x=g1['age_group']\n",
    "\n",
    "plt.bar(x, y)"
   ]
  },
  {
   "cell_type": "code",
   "execution_count": 22,
   "id": "behind-clinton",
   "metadata": {},
   "outputs": [],
   "source": [
    "#df1.groupby('age_group', as_index=False)['thalachh'].mean()\n",
    "g1 = df1.groupby('age_group')['thalachh'].mean().reset_index(name='mean_thalachh')"
   ]
  },
  {
   "cell_type": "code",
   "execution_count": 23,
   "id": "secure-blanket",
   "metadata": {},
   "outputs": [
    {
     "data": {
      "text/html": [
       "<div>\n",
       "<style scoped>\n",
       "    .dataframe tbody tr th:only-of-type {\n",
       "        vertical-align: middle;\n",
       "    }\n",
       "\n",
       "    .dataframe tbody tr th {\n",
       "        vertical-align: top;\n",
       "    }\n",
       "\n",
       "    .dataframe thead th {\n",
       "        text-align: right;\n",
       "    }\n",
       "</style>\n",
       "<table border=\"1\" class=\"dataframe\">\n",
       "  <thead>\n",
       "    <tr style=\"text-align: right;\">\n",
       "      <th></th>\n",
       "      <th>age_group</th>\n",
       "      <th>mean_thalachh</th>\n",
       "    </tr>\n",
       "  </thead>\n",
       "  <tbody>\n",
       "    <tr>\n",
       "      <th>0</th>\n",
       "      <td>25-34</td>\n",
       "      <td>NaN</td>\n",
       "    </tr>\n",
       "    <tr>\n",
       "      <th>1</th>\n",
       "      <td>35-44</td>\n",
       "      <td>178.285714</td>\n",
       "    </tr>\n",
       "    <tr>\n",
       "      <th>2</th>\n",
       "      <td>45-54</td>\n",
       "      <td>152.789474</td>\n",
       "    </tr>\n",
       "    <tr>\n",
       "      <th>3</th>\n",
       "      <td>55-64</td>\n",
       "      <td>144.714286</td>\n",
       "    </tr>\n",
       "    <tr>\n",
       "      <th>4</th>\n",
       "      <td>65-74</td>\n",
       "      <td>140.476190</td>\n",
       "    </tr>\n",
       "    <tr>\n",
       "      <th>5</th>\n",
       "      <td>75-84</td>\n",
       "      <td>116.000000</td>\n",
       "    </tr>\n",
       "  </tbody>\n",
       "</table>\n",
       "</div>"
      ],
      "text/plain": [
       "  age_group  mean_thalachh\n",
       "0     25-34            NaN\n",
       "1     35-44     178.285714\n",
       "2     45-54     152.789474\n",
       "3     55-64     144.714286\n",
       "4     65-74     140.476190\n",
       "5     75-84     116.000000"
      ]
     },
     "execution_count": 23,
     "metadata": {},
     "output_type": "execute_result"
    }
   ],
   "source": [
    "g1"
   ]
  },
  {
   "cell_type": "code",
   "execution_count": 24,
   "id": "rolled-ladder",
   "metadata": {},
   "outputs": [
    {
     "data": {
      "text/plain": [
       "<BarContainer object of 6 artists>"
      ]
     },
     "execution_count": 24,
     "metadata": {},
     "output_type": "execute_result"
    },
    {
     "data": {
      "image/png": "[encoded data removed]",
      "text/plain": [
       "<Figure size 432x288 with 1 Axes>"
      ]
     },
     "metadata": {
      "needs_background": "light"
     },
     "output_type": "display_data"
    }
   ],
   "source": [
    "y= g1['mean_thalachh']\n",
    "x=g1['age_group']\n",
    "\n",
    "plt.bar(x, y)"
   ]
  },
  {
   "cell_type": "code",
   "execution_count": 25,
   "id": "exotic-cabinet",
   "metadata": {},
   "outputs": [
    {
     "data": {
      "text/html": [
       "<div>\n",
       "<style scoped>\n",
       "    .dataframe tbody tr th:only-of-type {\n",
       "        vertical-align: middle;\n",
       "    }\n",
       "\n",
       "    .dataframe tbody tr th {\n",
       "        vertical-align: top;\n",
       "    }\n",
       "\n",
       "    .dataframe thead th {\n",
       "        text-align: right;\n",
       "    }\n",
       "</style>\n",
       "<table border=\"1\" class=\"dataframe\">\n",
       "  <thead>\n",
       "    <tr style=\"text-align: right;\">\n",
       "      <th></th>\n",
       "      <th>age</th>\n",
       "      <th>sex</th>\n",
       "      <th>cp</th>\n",
       "      <th>trtbps</th>\n",
       "      <th>chol</th>\n",
       "      <th>fbs</th>\n",
       "      <th>restecg</th>\n",
       "      <th>thalachh</th>\n",
       "      <th>age_group</th>\n",
       "    </tr>\n",
       "  </thead>\n",
       "  <tbody>\n",
       "  </tbody>\n",
       "</table>\n",
       "</div>"
      ],
      "text/plain": [
       "Empty DataFrame\n",
       "Columns: [age, sex, cp, trtbps, chol, fbs, restecg, thalachh, age_group]\n",
       "Index: []"
      ]
     },
     "execution_count": 25,
     "metadata": {},
     "output_type": "execute_result"
    }
   ],
   "source": [
    "df1[df1[\"age_group\"] == '25-34']"
   ]
  },
  {
   "cell_type": "code",
   "execution_count": null,
   "id": "progressive-travel",
   "metadata": {},
   "outputs": [],
   "source": []
  }
 ],
 "metadata": {
  "kernelspec": {
   "display_name": "Python 3",
   "language": "python",
   "name": "python3"
  },
  "language_info": {
   "codemirror_mode": {
    "name": "ipython",
    "version": 3
   },
   "file_extension": ".py",
   "mimetype": "text/x-python",
   "name": "python",
   "nbconvert_exporter": "python",
   "pygments_lexer": "ipython3",
   "version": "3.6.9"
  }
 },
 "nbformat": 4,
 "nbformat_minor": 5
}
